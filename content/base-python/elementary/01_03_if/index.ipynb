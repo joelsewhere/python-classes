{
 "cells": [
  {
   "cell_type": "markdown",
   "id": "c5dfbddf-c09b-4236-9540-99b561a638e8",
   "metadata": {
    "editable": true,
    "slideshow": {
     "slide_type": ""
    },
    "tags": []
   },
   "source": [
    "![](if-else.jpg)"
   ]
  },
  {
   "cell_type": "code",
   "execution_count": null,
   "id": "2ce5acd8-89c0-49db-a777-cbe21fdcfa57",
   "metadata": {
    "editable": true,
    "slideshow": {
     "slide_type": ""
    },
    "tags": []
   },
   "outputs": [],
   "source": [
    "import src\n",
    "\n",
    "src.reset_button()"
   ]
  },
  {
   "cell_type": "markdown",
   "id": "43aacdb4-caea-45d9-9f2f-d1dabac23d96",
   "metadata": {},
   "source": [
    "## Numbers"
   ]
  },
  {
   "cell_type": "code",
   "execution_count": null,
   "id": "2a916c10-b5fd-4154-b007-8bb79c0b868a",
   "metadata": {},
   "outputs": [],
   "source": [
    "number_a = 1\n",
    "number_b = 2\n",
    "\n",
    "number_a > number_b"
   ]
  },
  {
   "cell_type": "markdown",
   "id": "18ce5b6c-fa80-48a8-94f6-59d05c9818be",
   "metadata": {},
   "source": [
    "### If/Else"
   ]
  },
  {
   "cell_type": "code",
   "execution_count": null,
   "id": "34069445-04f4-4246-9353-d759269af65c",
   "metadata": {},
   "outputs": [],
   "source": [
    "if number_a > number_b:\n",
    "    print('a')\n",
    "else:\n",
    "    print('b')"
   ]
  },
  {
   "cell_type": "markdown",
   "id": "6cc78ee0-69e5-45d5-9d56-ceb292ee8a72",
   "metadata": {
    "editable": true,
    "slideshow": {
     "slide_type": ""
    },
    "tags": []
   },
   "source": [
    "## Morning Schedule"
   ]
  },
  {
   "cell_type": "code",
   "execution_count": null,
   "id": "7f5cdaaa-04bb-4b89-bf74-7125ecc58f71",
   "metadata": {},
   "outputs": [],
   "source": [
    "alarm_setting = src.alarm_clock()\n",
    "time_setting = src.time()"
   ]
  },
  {
   "cell_type": "code",
   "execution_count": null,
   "id": "9f4c7084-9c29-4952-8c20-64c10b624e75",
   "metadata": {},
   "outputs": [],
   "source": [
    "alarm = alarm_setting.value\n",
    "time = time_setting.value\n",
    "\n",
    "if time > alarm:\n",
    "    print(\"I'm awake!\")\n",
    "else:\n",
    "    print(\"I'm asleep!\")"
   ]
  },
  {
   "cell_type": "markdown",
   "id": "a1f6a14e-dd51-4948-b7f0-c39297b97331",
   "metadata": {},
   "source": [
    "## Lunch"
   ]
  },
  {
   "cell_type": "code",
   "execution_count": null,
   "id": "a9f6fabe-581e-4b47-8757-90bc92ce6cf2",
   "metadata": {},
   "outputs": [],
   "source": [
    "what_did_i_have_for_lunch = src.lunch()"
   ]
  },
  {
   "cell_type": "code",
   "execution_count": null,
   "id": "4992e1cf-50b0-45a4-b78a-44220d95fbe6",
   "metadata": {},
   "outputs": [],
   "source": [
    "lunch = what_did_i_have_for_lunch.value\n",
    "\n",
    "if lunch == 'cheeseburger':\n",
    "    print(\"I'm full!\")\n",
    "else:\n",
    "    print(\"I'm still hungry!\")"
   ]
  }
 ],
 "metadata": {
  "kernelspec": {
   "display_name": "Python 3 (ipykernel)",
   "language": "python",
   "name": "python3"
  },
  "language_info": {
   "codemirror_mode": {
    "name": "ipython",
    "version": 3
   },
   "file_extension": ".py",
   "mimetype": "text/x-python",
   "name": "python",
   "nbconvert_exporter": "python",
   "pygments_lexer": "ipython3",
   "version": "3.11.11"
  }
 },
 "nbformat": 4,
 "nbformat_minor": 5
}
