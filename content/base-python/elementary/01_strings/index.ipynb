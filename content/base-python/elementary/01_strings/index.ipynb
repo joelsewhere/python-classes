{
 "cells": [
  {
   "cell_type": "markdown",
   "id": "81fa3068-7764-4452-a94f-7db468798c37",
   "metadata": {},
   "source": [
    "# Python Code Painting"
   ]
  },
  {
   "cell_type": "code",
   "execution_count": null,
   "id": "f2624a03-4050-431b-8f1a-8c5eb61f00c2",
   "metadata": {},
   "outputs": [],
   "source": [
    "%pip install -q ipycanvas"
   ]
  },
  {
   "cell_type": "markdown",
   "id": "3a0aa4c7-d704-438d-87f3-a69e8fc3dd11",
   "metadata": {},
   "source": [
    "## Strings\n",
    "\n",
    "<img src=\"./static/alphabet.png\" style=\"width:400px;\">"
   ]
  },
  {
   "cell_type": "code",
   "execution_count": 1,
   "id": "5337eb40-6d65-455b-bfa7-695d12c79761",
   "metadata": {},
   "outputs": [
    {
     "data": {
      "text/plain": [
       "'This is a string! We create a string with quotation marks!'"
      ]
     },
     "execution_count": 1,
     "metadata": {},
     "output_type": "execute_result"
    }
   ],
   "source": [
    "\"This is a string! We create a string with quotation marks!\""
   ]
  },
  {
   "cell_type": "code",
   "execution_count": 19,
   "id": "e32c6dde-6859-422f-a282-050bb5e1b992",
   "metadata": {},
   "outputs": [
    {
     "data": {
      "application/vnd.jupyter.widget-view+json": {
       "model_id": "ea483eace09048f2bd6696eea87a2a97",
       "version_major": 2,
       "version_minor": 0
      },
      "text/plain": [
       "Canvas(height=300, width=1000)"
      ]
     },
     "execution_count": 19,
     "metadata": {},
     "output_type": "execute_result"
    }
   ],
   "source": [
    "from src import canvas, write_message\n",
    "\n",
    "canvas('green')"
   ]
  },
  {
   "cell_type": "code",
   "execution_count": 20,
   "id": "db90bde8-4ef6-44ae-8983-af0d40a103e3",
   "metadata": {},
   "outputs": [],
   "source": [
    "message = \"I'm learning to code!!!\"\n",
    "\n",
    "write_message(message)"
   ]
  },
  {
   "cell_type": "code",
   "execution_count": 21,
   "id": "c60345e2-0de4-476e-abda-c79cd7096af7",
   "metadata": {},
   "outputs": [
    {
     "data": {
      "application/vnd.jupyter.widget-view+json": {
       "model_id": "6a5cb638629c4e208d16593789d7d206",
       "version_major": 2,
       "version_minor": 0
      },
      "text/plain": [
       "Canvas(height=300, width=1000)"
      ]
     },
     "execution_count": 21,
     "metadata": {},
     "output_type": "execute_result"
    }
   ],
   "source": [
    "# Create a blue canvas\n",
    "#### YOUR CODE HERE\n",
    "canvas('blue')"
   ]
  },
  {
   "cell_type": "code",
   "execution_count": 22,
   "id": "25fa88f1-f60a-48f5-a456-169656eca29f",
   "metadata": {},
   "outputs": [],
   "source": [
    "# .lower\n",
    "message_lower = \"HELLO WORLD!\"\n",
    "\n",
    "write_message(message_lower)"
   ]
  },
  {
   "cell_type": "code",
   "execution_count": 23,
   "id": "864fb917-3c48-4b83-9d28-ffc2f204405f",
   "metadata": {},
   "outputs": [],
   "source": [
    "# .upper\n",
    "message_upper = \"hello world!\"\n",
    "\n",
    "write_message(message_upper)"
   ]
  },
  {
   "cell_type": "code",
   "execution_count": 24,
   "id": "de246b0d-1626-4e85-bd4e-61f04d0c144e",
   "metadata": {},
   "outputs": [],
   "source": [
    "# .title\n",
    "message_title = \"hEllo world!\"\n",
    "\n",
    "write_message(message_title)"
   ]
  },
  {
   "cell_type": "code",
   "execution_count": 25,
   "id": "b07aafa3-5526-4753-a9cc-0a9e83ede242",
   "metadata": {},
   "outputs": [],
   "source": [
    "# .replace\n",
    "message_replace = \"hello world!\".replace('l', '😎')\n",
    "write_message(message_replace)"
   ]
  },
  {
   "cell_type": "markdown",
   "id": "233043f0-0a60-4a5e-bf24-0a390c16ec8d",
   "metadata": {},
   "source": [
    "### Exercise - Create a canvas with a purple background and a message you'd like to share!"
   ]
  },
  {
   "cell_type": "code",
   "execution_count": null,
   "id": "1a3f9676-11d1-407a-bfdf-76db1b64504a",
   "metadata": {},
   "outputs": [],
   "source": [
    "#### YOUR CODE HERE"
   ]
  },
  {
   "cell_type": "markdown",
   "id": "77f8671b-4a5b-4ae9-b314-0a343c9ba24d",
   "metadata": {},
   "source": [
    "### String Formatting"
   ]
  },
  {
   "cell_type": "code",
   "execution_count": 26,
   "id": "9480584c-778e-462c-a884-1eecc1d7b43f",
   "metadata": {},
   "outputs": [
    {
     "data": {
      "application/vnd.jupyter.widget-view+json": {
       "model_id": "9a47302518064b57bfe69763f746b76f",
       "version_major": 2,
       "version_minor": 0
      },
      "text/plain": [
       "Canvas(height=300, width=1000)"
      ]
     },
     "execution_count": 26,
     "metadata": {},
     "output_type": "execute_result"
    }
   ],
   "source": [
    "canvas('orange')"
   ]
  },
  {
   "cell_type": "code",
   "execution_count": 32,
   "id": "23617f23-f7c1-4d09-8814-c89a5b7331c0",
   "metadata": {},
   "outputs": [],
   "source": [
    "greeting_template = 'hello {noun}'\n",
    "greeting = greeting_template.format(noun=\"🌎\")\n",
    "\n",
    "write_message(greeting)"
   ]
  },
  {
   "cell_type": "markdown",
   "id": "9586429f-f1a5-4f3d-9572-234c4bb984e6",
   "metadata": {},
   "source": [
    "### Exercise"
   ]
  },
  {
   "cell_type": "code",
   "execution_count": null,
   "id": "dcd49bbe-54b9-4962-8f7a-97dd10984360",
   "metadata": {},
   "outputs": [],
   "source": [
    "template = 'My name is {name}. My favorite class is {favorite_class}. My favorite color is {favorite_color}'\n",
    "\n",
    "about_me = ### YOUR CODE HERE\n",
    "\n",
    "print(about_me)"
   ]
  }
 ],
 "metadata": {
  "kernelspec": {
   "display_name": "Python 3 (ipykernel)",
   "language": "python",
   "name": "python3"
  },
  "language_info": {
   "codemirror_mode": {
    "name": "ipython",
    "version": 3
   },
   "file_extension": ".py",
   "mimetype": "text/x-python",
   "name": "python",
   "nbconvert_exporter": "python",
   "pygments_lexer": "ipython3",
   "version": "3.11.11"
  }
 },
 "nbformat": 4,
 "nbformat_minor": 5
}
