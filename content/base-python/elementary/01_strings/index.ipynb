{
 "cells": [
  {
   "cell_type": "markdown",
   "id": "81fa3068-7764-4452-a94f-7db468798c37",
   "metadata": {
    "editable": false,
    "slideshow": {
     "slide_type": "slide"
    },
    "tags": []
   },
   "source": [
    "# Python Code Painting"
   ]
  },
  {
   "cell_type": "code",
   "execution_count": null,
   "id": "f2624a03-4050-431b-8f1a-8c5eb61f00c2",
   "metadata": {
    "editable": false,
    "slideshow": {
     "slide_type": "fragment"
    },
    "tags": []
   },
   "outputs": [],
   "source": [
    "%pip install -q ipycanvas"
   ]
  },
  {
   "cell_type": "markdown",
   "id": "3a0aa4c7-d704-438d-87f3-a69e8fc3dd11",
   "metadata": {
    "editable": false,
    "slideshow": {
     "slide_type": "slide"
    },
    "tags": []
   },
   "source": [
    "## Strings\n",
    "\n",
    "<img src=\"./static/alphabet.png\">"
   ]
  },
  {
   "cell_type": "code",
   "execution_count": null,
   "id": "5337eb40-6d65-455b-bfa7-695d12c79761",
   "metadata": {
    "editable": false,
    "slideshow": {
     "slide_type": "fragment"
    },
    "tags": []
   },
   "outputs": [],
   "source": [
    "\"This is a string! We create a string with quotation marks!\""
   ]
  },
  {
   "cell_type": "markdown",
   "id": "7e86d605",
   "metadata": {
    "editable": false,
    "slideshow": {
     "slide_type": "fragment"
    }
   },
   "source": [
    "### Exercise\n",
    "\n",
    "Type your first and last name as a string!"
   ]
  },
  {
   "cell_type": "code",
   "execution_count": null,
   "id": "cc746912",
   "metadata": {
    "slideshow": {
     "slide_type": "fragment"
    }
   },
   "outputs": [],
   "source": [
    "### YOUR CODE HERE"
   ]
  },
  {
   "cell_type": "markdown",
   "id": "c8a5016c",
   "metadata": {
    "editable": false,
    "slideshow": {
     "slide_type": "slide"
    }
   },
   "source": [
    "# Let's play around with python strings!"
   ]
  },
  {
   "cell_type": "code",
   "execution_count": 1,
   "id": "e32c6dde-6859-422f-a282-050bb5e1b992",
   "metadata": {
    "slideshow": {
     "slide_type": "fragment"
    },
    "tags": []
   },
   "outputs": [
    {
     "data": {
      "application/vnd.jupyter.widget-view+json": {
       "model_id": "ecea3e7025f64046b2bf3747b45c7ffc",
       "version_major": 2,
       "version_minor": 0
      },
      "text/plain": [
       "Canvas(height=300, width=1000)"
      ]
     },
     "execution_count": 1,
     "metadata": {},
     "output_type": "execute_result"
    }
   ],
   "source": [
    "from src import canvas, write_message\n",
    "\n",
    "canvas('green')"
   ]
  },
  {
   "cell_type": "code",
   "execution_count": 2,
   "id": "db90bde8-4ef6-44ae-8983-af0d40a103e3",
   "metadata": {
    "slideshow": {
     "slide_type": "fragment"
    },
    "tags": []
   },
   "outputs": [],
   "source": [
    "message = \"I'm learning to code!!!\"\n",
    "\n",
    "write_message(message) "
   ]
  },
  {
   "cell_type": "markdown",
   "id": "54c51d43",
   "metadata": {
    "editable": false,
    "slideshow": {
     "slide_type": "slide"
    }
   },
   "source": [
    "## Exercise\n",
    "\n",
    "Create a blue canvas"
   ]
  },
  {
   "cell_type": "code",
   "execution_count": null,
   "id": "c60345e2-0de4-476e-abda-c79cd7096af7",
   "metadata": {
    "slideshow": {
     "slide_type": "fragment"
    },
    "tags": []
   },
   "outputs": [],
   "source": [
    "#### YOUR CODE HERE"
   ]
  },
  {
   "cell_type": "code",
   "execution_count": null,
   "id": "25fa88f1-f60a-48f5-a456-169656eca29f",
   "metadata": {
    "slideshow": {
     "slide_type": "fragment"
    },
    "tags": []
   },
   "outputs": [],
   "source": [
    "# .lower\n",
    "message_lower = \"HELLO WORLD!\"\n",
    "\n",
    "write_message(message_lower)"
   ]
  },
  {
   "cell_type": "code",
   "execution_count": null,
   "id": "864fb917-3c48-4b83-9d28-ffc2f204405f",
   "metadata": {
    "slideshow": {
     "slide_type": "fragment"
    },
    "tags": []
   },
   "outputs": [],
   "source": [
    "# .upper\n",
    "message_upper = \"hello world!\"\n",
    "\n",
    "write_message(message_upper)"
   ]
  },
  {
   "cell_type": "code",
   "execution_count": null,
   "id": "de246b0d-1626-4e85-bd4e-61f04d0c144e",
   "metadata": {
    "slideshow": {
     "slide_type": "fragment"
    },
    "tags": []
   },
   "outputs": [],
   "source": [
    "# .title\n",
    "message_title = \"hEllo world!\"\n",
    "\n",
    "write_message(message_title)"
   ]
  },
  {
   "cell_type": "code",
   "execution_count": null,
   "id": "b07aafa3-5526-4753-a9cc-0a9e83ede242",
   "metadata": {
    "slideshow": {
     "slide_type": "fragment"
    },
    "tags": []
   },
   "outputs": [],
   "source": [
    "# .replace\n",
    "message_replace = \"hello world!\"\n",
    "write_message(message_replace)"
   ]
  },
  {
   "cell_type": "markdown",
   "id": "233043f0-0a60-4a5e-bf24-0a390c16ec8d",
   "metadata": {
    "editable": false,
    "slideshow": {
     "slide_type": "slide"
    },
    "tags": []
   },
   "source": [
    "### Exercise - Create a canvas with a purple background and a message you'd like to share!"
   ]
  },
  {
   "cell_type": "code",
   "execution_count": null,
   "id": "1a3f9676-11d1-407a-bfdf-76db1b64504a",
   "metadata": {
    "slideshow": {
     "slide_type": "fragment"
    },
    "tags": []
   },
   "outputs": [],
   "source": [
    "#### YOUR CODE HERE"
   ]
  },
  {
   "cell_type": "markdown",
   "id": "77f8671b-4a5b-4ae9-b314-0a343c9ba24d",
   "metadata": {
    "editable": false,
    "slideshow": {
     "slide_type": "slide"
    },
    "tags": []
   },
   "source": [
    "### String Formatting"
   ]
  },
  {
   "cell_type": "code",
   "execution_count": null,
   "id": "9480584c-778e-462c-a884-1eecc1d7b43f",
   "metadata": {
    "slideshow": {
     "slide_type": "fragment"
    },
    "tags": []
   },
   "outputs": [],
   "source": [
    "canvas('orange')"
   ]
  },
  {
   "cell_type": "code",
   "execution_count": null,
   "id": "23617f23-f7c1-4d09-8814-c89a5b7331c0",
   "metadata": {
    "slideshow": {
     "slide_type": "fragment"
    },
    "tags": []
   },
   "outputs": [],
   "source": [
    "greeting_template = 'hello {noun}'\n",
    "greeting = greeting_template.format(noun=\"🌎\")\n",
    "\n",
    "write_message(greeting)"
   ]
  },
  {
   "cell_type": "markdown",
   "id": "9586429f-f1a5-4f3d-9572-234c4bb984e6",
   "metadata": {
    "slideshow": {
     "slide_type": "subslide"
    },
    "tags": []
   },
   "source": [
    "### Exercise"
   ]
  },
  {
   "cell_type": "code",
   "execution_count": null,
   "id": "dcd49bbe-54b9-4962-8f7a-97dd10984360",
   "metadata": {
    "slideshow": {
     "slide_type": "fragment"
    },
    "tags": []
   },
   "outputs": [],
   "source": [
    "template = 'My name is {name}. My favorite class is {favorite_class}. My favorite color is {favorite_color}'\n",
    "\n",
    "about_me = ### YOUR CODE HERE\n",
    "\n",
    "print(about_me)"
   ]
  }
 ],
 "metadata": {
  "celltoolbar": "Edit Metadata",
  "kernelspec": {
   "display_name": "Python 3 (ipykernel)",
   "language": "python",
   "name": "python3"
  },
  "language_info": {
   "codemirror_mode": {
    "name": "ipython",
    "version": 3
   },
   "file_extension": ".py",
   "mimetype": "text/x-python",
   "name": "python",
   "nbconvert_exporter": "python",
   "pygments_lexer": "ipython3",
   "version": "3.10.10"
  }
 },
 "nbformat": 4,
 "nbformat_minor": 5
}
