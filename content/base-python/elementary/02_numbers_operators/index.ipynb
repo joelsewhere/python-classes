{
 "cells": [
  {
   "cell_type": "markdown",
   "id": "83f121f6-8c2b-451c-9895-5e71ab05639e",
   "metadata": {
    "editable": false,
    "slideshow": {
     "slide_type": "slide"
    },
    "tags": []
   },
   "source": [
    "# Numbers\n",
    "\n",
    "![](numbers.jpg)"
   ]
  },
  {
   "cell_type": "code",
   "execution_count": null,
   "id": "4969bdcd-4d22-4df1-adde-eba1989c2f04",
   "metadata": {
    "editable": false,
    "slideshow": {
     "slide_type": "fragment"
    },
    "tags": []
   },
   "outputs": [],
   "source": [
    "%pip install -q ipycanvas"
   ]
  },
  {
   "cell_type": "markdown",
   "id": "9e366295-90c4-4f45-a621-6a13a4f937dc",
   "metadata": {
    "editable": false,
    "slideshow": {
     "slide_type": "slide"
    },
    "tags": []
   },
   "source": [
    "## Calculator"
   ]
  },
  {
   "cell_type": "markdown",
   "id": "74d59ebb-419e-48cf-9c89-43728b990398",
   "metadata": {
    "editable": false,
    "slideshow": {
     "slide_type": "subslide"
    },
    "tags": []
   },
   "source": [
    "### Add"
   ]
  },
  {
   "cell_type": "code",
   "execution_count": null,
   "id": "d3d1950e-e988-4c3e-ae19-3b71f7ad743a",
   "metadata": {
    "slideshow": {
     "slide_type": "fragment"
    },
    "tags": []
   },
   "outputs": [],
   "source": [
    "2 + 2"
   ]
  },
  {
   "cell_type": "markdown",
   "id": "83f52b37-4bf1-4ac2-b469-a9d85a9f3fdf",
   "metadata": {
    "editable": false,
    "slideshow": {
     "slide_type": "subslide"
    },
    "tags": []
   },
   "source": [
    "### Subtract"
   ]
  },
  {
   "cell_type": "code",
   "execution_count": null,
   "id": "2c0fbce0-38e6-42a1-b724-769f5f0edc23",
   "metadata": {
    "slideshow": {
     "slide_type": "fragment"
    },
    "tags": []
   },
   "outputs": [],
   "source": [
    "2 - 2"
   ]
  },
  {
   "cell_type": "markdown",
   "id": "8114be97-4af6-448a-b7e0-0445f7abc146",
   "metadata": {
    "editable": false,
    "slideshow": {
     "slide_type": "subslide"
    },
    "tags": []
   },
   "source": [
    "### Multiplication"
   ]
  },
  {
   "cell_type": "code",
   "execution_count": null,
   "id": "854570cd-26e7-48f9-bbc7-429e9056f9fa",
   "metadata": {
    "slideshow": {
     "slide_type": "fragment"
    },
    "tags": []
   },
   "outputs": [],
   "source": [
    "2 * 2"
   ]
  },
  {
   "cell_type": "markdown",
   "id": "7cf6b1da-08e2-4c79-beb0-ed42edc0cb65",
   "metadata": {
    "editable": false,
    "slideshow": {
     "slide_type": "subslide"
    },
    "tags": []
   },
   "source": [
    "### Division"
   ]
  },
  {
   "cell_type": "code",
   "execution_count": null,
   "id": "e7a70a0f-ef6b-47da-88ca-6fc8f457f68b",
   "metadata": {
    "slideshow": {
     "slide_type": "fragment"
    },
    "tags": []
   },
   "outputs": [],
   "source": [
    "2/2"
   ]
  },
  {
   "cell_type": "markdown",
   "id": "2a7e399b-b10c-476d-a29a-49802d5267b3",
   "metadata": {
    "editable": false,
    "slideshow": {
     "slide_type": "slide"
    },
    "tags": []
   },
   "source": [
    "## Birth Year Calculator"
   ]
  },
  {
   "cell_type": "code",
   "execution_count": null,
   "id": "cc96f103-3397-4b8c-9dc6-7b7267a0e104",
   "metadata": {
    "slideshow": {
     "slide_type": "fragment"
    },
    "tags": []
   },
   "outputs": [],
   "source": [
    "from src import canvas, write_message\n",
    "canvas('green')"
   ]
  },
  {
   "cell_type": "code",
   "execution_count": null,
   "id": "72f3799d-3bf6-48c9-a7e5-273a5008f619",
   "metadata": {
    "slideshow": {
     "slide_type": "fragment"
    },
    "tags": []
   },
   "outputs": [],
   "source": [
    "age = #### YOUR CODE HERE\n",
    "\n",
    "current_year = #### YOUR CODE HERE\n",
    "\n",
    "birthday_year = #### YOUR CODE HERE\n",
    "\n",
    "write_message(birthday_year)"
   ]
  },
  {
   "cell_type": "code",
   "execution_count": null,
   "id": "d2f88915-9596-41e3-959b-31f2ad46225c",
   "metadata": {
    "slideshow": {
     "slide_type": "fragment"
    },
    "tags": []
   },
   "outputs": [],
   "source": [
    "message = 'I was born in {birthday_year}'.format(#### YOUR CODE HERE)\n",
    "\n",
    "write_message(message)"
   ]
  }
 ],
 "metadata": {
  "celltoolbar": "Edit Metadata",
  "kernelspec": {
   "display_name": "Python 3 (ipykernel)",
   "language": "python",
   "name": "python3"
  },
  "language_info": {
   "codemirror_mode": {
    "name": "ipython",
    "version": 3
   },
   "file_extension": ".py",
   "mimetype": "text/x-python",
   "name": "python",
   "nbconvert_exporter": "python",
   "pygments_lexer": "ipython3",
   "version": "3.10.10"
  }
 },
 "nbformat": 4,
 "nbformat_minor": 5
}
