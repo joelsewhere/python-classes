{
 "cells": [
  {
   "cell_type": "markdown",
   "id": "345a3339-c2a1-4c3c-b9f0-1e1e7567617c",
   "metadata": {},
   "source": [
    "## Password Strength Checker\n",
    "\n",
    "A password is considered strong if it meets these conditions:\n",
    "\n",
    "- At least 8 characters long\n",
    "\n",
    "- Contains at least one digit\n",
    "\n",
    "- Contains at least one special character (!@#$%^&*() etc.)\n",
    "\n",
    "Write a Python program that asks the user to enter a password and checks if it is strong."
   ]
  },
  {
   "cell_type": "code",
   "execution_count": null,
   "id": "3a59663f-8901-488d-9637-2e0b531c52ad",
   "metadata": {},
   "outputs": [],
   "source": []
  },
  {
   "cell_type": "markdown",
   "id": "4d4a9035-2d28-4b2b-aec1-34fa0c5df8f9",
   "metadata": {},
   "source": [
    "## Age Calculator"
   ]
  },
  {
   "cell_type": "markdown",
   "id": "d58c3d66-be17-4810-b76b-bd6a5504fe51",
   "metadata": {},
   "source": [
    "Write a Python program that asks the user for their birth year and calculates their age. "
   ]
  },
  {
   "cell_type": "code",
   "execution_count": null,
   "id": "6a929529-49cd-49b2-9ad6-c7e1b6e954b3",
   "metadata": {},
   "outputs": [],
   "source": []
  },
  {
   "cell_type": "markdown",
   "id": "2aeaf109-874c-461f-ba89-cb163c7c5e62",
   "metadata": {},
   "source": [
    "## Movie Ticket\n",
    "\n",
    "\n",
    "A movie theater charges different ticket prices based on age:\n",
    "\n",
    "- Children under 12 pay $8.\n",
    "\n",
    "- Seniors (60 and older) pay $10.\n",
    "\n",
    "- Everyone else pays $12.\n",
    "\n",
    "Write a Python program that asks for a person's age and prints the ticket price."
   ]
  },
  {
   "cell_type": "code",
   "execution_count": null,
   "id": "21cf64ac-96a7-4a04-ad72-684ed5ce7154",
   "metadata": {},
   "outputs": [],
   "source": []
  }
 ],
 "metadata": {
  "kernelspec": {
   "display_name": "Python 3 (ipykernel)",
   "language": "python",
   "name": "python3"
  },
  "language_info": {
   "codemirror_mode": {
    "name": "ipython",
    "version": 3
   },
   "file_extension": ".py",
   "mimetype": "text/x-python",
   "name": "python",
   "nbconvert_exporter": "python",
   "pygments_lexer": "ipython3",
   "version": "3.11.11"
  }
 },
 "nbformat": 4,
 "nbformat_minor": 5
}
