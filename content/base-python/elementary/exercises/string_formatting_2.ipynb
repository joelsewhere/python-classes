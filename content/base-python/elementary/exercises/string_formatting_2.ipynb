{
 "cells": [
  {
   "cell_type": "markdown",
   "id": "53a79afd-822e-4247-8e89-8c1b03648719",
   "metadata": {},
   "source": [
    "Once upon a time there was a ______ named ______ who loved to eat ______ ice cream"
   ]
  },
  {
   "cell_type": "code",
   "execution_count": null,
   "id": "2756aa18-f419-4536-b87a-91cce68e72da",
   "metadata": {},
   "outputs": [],
   "source": []
  },
  {
   "cell_type": "markdown",
   "id": "b67c85cc-a427-4874-a12c-b7447cc41ac2",
   "metadata": {},
   "source": [
    "If I could have a superpower I would choose ______ because it ______"
   ]
  },
  {
   "cell_type": "code",
   "execution_count": null,
   "id": "dabebbb6-ef81-4325-9bf2-13ee3f5400a3",
   "metadata": {},
   "outputs": [],
   "source": []
  },
  {
   "cell_type": "markdown",
   "id": "4e296503-e38b-44f5-bc9f-141529fbdd2d",
   "metadata": {},
   "source": [
    "My favorite holiday is ______"
   ]
  },
  {
   "cell_type": "code",
   "execution_count": null,
   "id": "6e4394f2-cbed-4030-bac5-4927ecdef2cc",
   "metadata": {},
   "outputs": [],
   "source": []
  },
  {
   "cell_type": "markdown",
   "id": "ac7c7f63-68c9-46b8-9ac1-5a914a0c648d",
   "metadata": {},
   "source": [
    "My favorite candy is _____ and my favorite food is _____"
   ]
  },
  {
   "cell_type": "code",
   "execution_count": null,
   "id": "c872de74-73fa-461e-9e19-edaaf0ffa728",
   "metadata": {},
   "outputs": [],
   "source": []
  }
 ],
 "metadata": {
  "kernelspec": {
   "display_name": "Python 3 (ipykernel)",
   "language": "python",
   "name": "python3"
  },
  "language_info": {
   "codemirror_mode": {
    "name": "ipython",
    "version": 3
   },
   "file_extension": ".py",
   "mimetype": "text/x-python",
   "name": "python",
   "nbconvert_exporter": "python",
   "pygments_lexer": "ipython3",
   "version": "3.11.11"
  }
 },
 "nbformat": 4,
 "nbformat_minor": 5
}
