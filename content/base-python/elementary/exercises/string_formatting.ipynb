{
 "cells": [
  {
   "cell_type": "code",
   "execution_count": null,
   "metadata": {},
   "outputs": [],
   "source": [
    "wake_up_template = \"I wake up at {alarm_clock}\"\n",
    "\n",
    "alarm_clock = # YOUR CODE HERE\n",
    "\n",
    "wake_up = # YOUR CODE HERE\n",
    "\n",
    "print(wake_up)"
   ]
  },
  {
   "cell_type": "code",
   "execution_count": null,
   "metadata": {},
   "outputs": [],
   "source": [
    "school_start_template = \"School starts at {first_bell}\"\n",
    "\n",
    "first_bell = # YOUR CODE HERE\n",
    "\n",
    "school_start = # YOUR CODE HERE\n",
    "\n",
    "print(school_start)"
   ]
  },
  {
   "cell_type": "code",
   "execution_count": null,
   "metadata": {},
   "outputs": [],
   "source": [
    "lunch_template = \"Today for lunch I had {meal}\"\n",
    "\n",
    "meal = # YOUR CODE HERE\n",
    "\n",
    "lunch = # YOUR CODE HERE\n",
    "\n",
    "print(lunch)"
   ]
  },
  {
   "cell_type": "code",
   "execution_count": null,
   "metadata": {},
   "outputs": [],
   "source": [
    "school_ends_template = \"School ends at {last_bell}\"\n",
    "\n",
    "last_bell = # YOUR CODE HERE\n",
    "\n",
    "lunch = # YOUR CODE HERE\n",
    "\n",
    "print(lunch)"
   ]
  },
  {
   "cell_type": "code",
   "execution_count": null,
   "metadata": {},
   "outputs": [],
   "source": [
    "bedtime_template = \"I go to bed at {time_for_bed}\"\n",
    "\n",
    "time_for_bed = # YOUR CODE HERE\n",
    "\n",
    "bedtime = # YOUR CODE HERE\n",
    "\n",
    "print(bedtime)"
   ]
  }
 ],
 "metadata": {
  "kernelspec": {
   "display_name": "jupyter-lite",
   "language": "python",
   "name": "python3"
  },
  "language_info": {
   "codemirror_mode": {
    "name": "ipython",
    "version": 3
   },
   "file_extension": ".py",
   "mimetype": "text/x-python",
   "name": "python",
   "nbconvert_exporter": "python",
   "pygments_lexer": "ipython3",
   "version": "3.12.2"
  }
 },
 "nbformat": 4,
 "nbformat_minor": 2
}
