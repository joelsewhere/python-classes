{
 "cells": [
  {
   "cell_type": "markdown",
   "id": "65e6360b-c416-4d67-a217-365d8195ba05",
   "metadata": {},
   "source": [
    "## Cat or Dog\n",
    "\n",
    "<img src=\"./static/cat-or-dog.jpg\" style=\"height:300px\">\n",
    "\n",
    "In the cell below, write an algorithm that prints the sound of the `animal`"
   ]
  },
  {
   "cell_type": "code",
   "execution_count": null,
   "id": "b39d2574-7599-47df-8cd1-90a5ffb52654",
   "metadata": {},
   "outputs": [],
   "source": [
    "animal = 'Cat'\n",
    "\n",
    "### YOUR CODE HERE\n"
   ]
  },
  {
   "cell_type": "markdown",
   "id": "97526681-4383-4d4d-b325-88d801fa1c00",
   "metadata": {},
   "source": [
    "## Alarm Clock\n",
    "\n",
    "<img src=\"./static/alarmclock.jpg\" style=\"height:300px\">\n",
    "\n",
    "I wake up at 7am and I go to bed at 11pm\n",
    "\n",
    "In the cell below, write an algorithm that prints \"Good Morning!\" or \"Good Night!\" depending on the 'time'."
   ]
  },
  {
   "cell_type": "code",
   "execution_count": 3,
   "id": "1659adb6-b11c-4d11-9ed0-658ae02e3d36",
   "metadata": {},
   "outputs": [],
   "source": [
    "time = '7am'\n",
    "\n",
    "### YOUR CODE HERE"
   ]
  },
  {
   "cell_type": "markdown",
   "id": "c31d9b29-0f67-4ab8-88db-4e1cbb5d270e",
   "metadata": {},
   "source": [
    "## Weather\n",
    "\n",
    "<img src='./static/weather.jpg' style='height:300px'>\n",
    "\n",
    "- Monday: Rainy\n",
    "- Tuesday: Sunny\n",
    "- Wednesday: Sunny\n",
    "- Thursday: Rainy\n",
    "- Friday: Sunny\n",
    "- Saturday: Sunny\n",
    "\n",
    "In the cell below, write an algorithm that prints the weather for `today`"
   ]
  },
  {
   "cell_type": "code",
   "execution_count": 2,
   "id": "90fbe552-d76d-49a9-aaa0-7835d02cb947",
   "metadata": {},
   "outputs": [],
   "source": [
    "today = 'Monday'\n",
    "\n",
    "### YOUR CODE HERE\n"
   ]
  },
  {
   "cell_type": "markdown",
   "id": "7aca901d-d9dc-4b0d-a84f-3d519768d09f",
   "metadata": {},
   "source": [
    "## Password\n",
    "\n",
    "<img src='./static/password.png' style='height:300px'>\n",
    "\n",
    "\n",
    "The correct password to log in is `\"GoodPassword123!\"`. Write an algorithm below that prints \"You're logged in!\" if `entered` is correct, and \"Incorrect password\" if `entered` is wrong. "
   ]
  },
  {
   "cell_type": "code",
   "execution_count": 4,
   "id": "f22c2df4-e365-4b34-88d9-211b2aa83efb",
   "metadata": {},
   "outputs": [],
   "source": [
    "entered = 'Wrong Password'\n",
    "\n",
    "\n",
    "### YOUR CODE HERE"
   ]
  },
  {
   "cell_type": "code",
   "execution_count": null,
   "id": "727f9cee-0a4c-4280-af10-129ea7c616fa",
   "metadata": {},
   "outputs": [],
   "source": []
  }
 ],
 "metadata": {
  "kernelspec": {
   "display_name": "Python 3 (ipykernel)",
   "language": "python",
   "name": "python3"
  },
  "language_info": {
   "codemirror_mode": {
    "name": "ipython",
    "version": 3
   },
   "file_extension": ".py",
   "mimetype": "text/x-python",
   "name": "python",
   "nbconvert_exporter": "python",
   "pygments_lexer": "ipython3",
   "version": "3.11.11"
  }
 },
 "nbformat": 4,
 "nbformat_minor": 5
}
